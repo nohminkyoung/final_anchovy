{
 "cells": [
  {
   "cell_type": "markdown",
   "id": "24bbb9bf",
   "metadata": {},
   "source": [
    "### 일주일치 정산"
   ]
  },
  {
   "cell_type": "code",
   "execution_count": 160,
   "id": "c657b4c1",
   "metadata": {},
   "outputs": [
    {
     "name": "stdout",
     "output_type": "stream",
     "text": [
      "{'zza': 82, 'psj': 153, 'Qotrl': 47, 'psj2': 28, 'zzayo': 48}\n"
     ]
    }
   ],
   "source": [
    "import pymysql\n",
    "from datetime import datetime, timedelta\n",
    "\n",
    "## 날짜 찾아서  변수 추가\n",
    "\n",
    "now = datetime.now() # 현재\n",
    "date = now.date() - timedelta(days=6)\n",
    "\n",
    "# SQL 문에 넣을 쿼리 작성 (전체 찾기)\n",
    "sqlery = f\"SELECT * FROM anchovy_train_train WHERE train_date >= '{date}' \" \n",
    "\n",
    "# SQL 문 조회\n",
    "connect = pymysql.connect(host=\"database-dev.cclpxl5ttlgd.ap-northeast-2.rds.amazonaws.com\", user=\"develop\",\n",
    "               password=\"anchovy1!\", db=\"anchovy\", charset=\"utf8\", autocommit=True, # .autocommit 결과 반영\n",
    "               cursorclass=pymysql.cursors.DictCursor) #DB 조회시 컬럼명을 동시에 보여준다\n",
    "cur = connect.cursor() # 연결 (Cusor 생성)\n",
    "sql = sqlery #Train 테이블 전체를 불러옴 (sql 문 정의)\n",
    "cur.execute(sql) # Sql문 실행\n",
    "\n",
    "\n",
    "weekdata = cur.fetchall() # 나열 함수\n",
    "username = []\n",
    "for i in weekdata:\n",
    "    username.append(i['username'])\n",
    "\n",
    "usernames = list(set(username))\n",
    "score = {}\n",
    "\n",
    "for username in usernames:\n",
    "    for all_data in weekdata:\n",
    "        if all_data['username'] == username:\n",
    "            if username in score.keys():\n",
    "                score[username] += all_data['train_accurate_count']\n",
    "            else:\n",
    "                score[username] = all_data['train_accurate_count']\n",
    "            \n",
    "\n",
    "connect.close() #Sql 문을 종료"
   ]
  },
  {
   "cell_type": "markdown",
   "id": "e85bea41",
   "metadata": {},
   "source": [
    "## lv 비교"
   ]
  },
  {
   "cell_type": "code",
   "execution_count": 208,
   "id": "ed6a2151",
   "metadata": {
    "scrolled": true
   },
   "outputs": [],
   "source": [
    "character_lv = {1:120, 2:150, 3:180, 4: 210}\n",
    "# SQL 문에 넣을 쿼리 작성 (전체 찾기)\n",
    "coupon = \"SELECT * FROM anchovy_common_user_status WHERE character_lv > 0\"  # 이전 쿠폰 값\n",
    "update_coupon = f\"UPDATE anchovy_common_user_status SET coupon=%s WHERE username=%s\" # 현재 쿠폰값 업데이트\n",
    "reset_week = f\"UPDATE anchovy_common_user_status SET week_train_count=0\"\n",
    "\n",
    "# SQL 문 조회\n",
    "connect = pymysql.connect(host=\"database-dev.cclpxl5ttlgd.ap-northeast-2.rds.amazonaws.com\", user=\"develop\",\n",
    "               password=\"anchovy1!\", db=\"anchovy\", charset=\"utf8\", autocommit=True, # .autocommit 결과 반영\n",
    "               cursorclass=pymysql.cursors.DictCursor) #DB 조회시 컬럼명을 동시에 보여준다\n",
    "\n",
    "coupon_connect = connect.cursor() # 연결 (Cusor 생성)\n",
    "coupon_connect.execute(coupon) # Sql문 실행\n",
    "\n",
    "user_datas = coupon_connect.fetchall()\n",
    "\n",
    "\n",
    "for username in score:\n",
    "    for user_data in user_datas:\n",
    "        if user_data['username'] == username:\n",
    "            if score[username] >= character_lv[user_data['character_lv']]:\n",
    "                new_coupon = user_data['coupon'] + 1\n",
    "                new_connect = connect.cursor()\n",
    "                new_connect.execute(update_coupon, (new_coupon,username))\n",
    "\n",
    "reset_connect = connect.cursor()\n",
    "reset_connect.execute(reset_week)\n",
    "                \n",
    "connect.close() #Sql 문을 종료"
   ]
  },
  {
   "cell_type": "code",
   "execution_count": null,
   "id": "ca1bf967",
   "metadata": {},
   "outputs": [],
   "source": []
  }
 ],
 "metadata": {
  "kernelspec": {
   "display_name": "Python 3 (ipykernel)",
   "language": "python",
   "name": "python3"
  },
  "language_info": {
   "codemirror_mode": {
    "name": "ipython",
    "version": 3
   },
   "file_extension": ".py",
   "mimetype": "text/x-python",
   "name": "python",
   "nbconvert_exporter": "python",
   "pygments_lexer": "ipython3",
   "version": "3.9.13"
  }
 },
 "nbformat": 4,
 "nbformat_minor": 5
}
