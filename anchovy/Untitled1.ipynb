{
 "cells": [
  {
   "cell_type": "code",
   "execution_count": 2,
   "id": "3313a3be",
   "metadata": {},
   "outputs": [],
   "source": [
    "import pymysql"
   ]
  },
  {
   "cell_type": "code",
   "execution_count": 27,
   "id": "522d5cb8",
   "metadata": {},
   "outputs": [],
   "source": [
    "from datetime import datetime, date, time, timedelta"
   ]
  },
  {
   "cell_type": "code",
   "execution_count": 63,
   "id": "7bc3ec69",
   "metadata": {},
   "outputs": [
    {
     "data": {
      "text/plain": [
       "38"
      ]
     },
     "execution_count": 63,
     "metadata": {},
     "output_type": "execute_result"
    }
   ],
   "source": [
    "now = datetime.now() # 현재\n",
    "\n",
    "reload = now.date() - timedelta(days=6)\n",
    "\n",
    "con = pymysql.connect(host=\"database-dev.cclpxl5ttlgd.ap-northeast-2.rds.amazonaws.com\", user=\"develop\",\n",
    "               password=\"anchovy1!\", db=\"anchovy\", charset=\"utf8\", autocommit=True, # .autocommit 결과 반영\n",
    "               cursorclass=pymysql.cursors.DictCursor) #DB 조회시 컬럼명을 동시에 보여준다\n",
    "cur = con.cursor() # 연결 (Cusor 생성)\n",
    "\n",
    "sql = \"SELECT * FROM anchovy_train_train WHERE train_date >= {}\".format(reload) #Train 테이블 전체를 불러옴 (sql 문 정의)\n",
    "\n",
    "cur.execute(sql) # Sql문 실행"
   ]
  },
  {
   "cell_type": "code",
   "execution_count": 6,
   "id": "5f9ec8c4",
   "metadata": {},
   "outputs": [],
   "source": [
    "cur.execute(sql) \n",
    "data = cur.fetchall()"
   ]
  },
  {
   "cell_type": "code",
   "execution_count": 62,
   "id": "368058d2",
   "metadata": {},
   "outputs": [
    {
     "data": {
      "text/plain": [
       "datetime.date(2023, 1, 7)"
      ]
     },
     "execution_count": 62,
     "metadata": {},
     "output_type": "execute_result"
    }
   ],
   "source": [
    "reload"
   ]
  },
  {
   "cell_type": "code",
   "execution_count": null,
   "id": "77bfa308",
   "metadata": {},
   "outputs": [],
   "source": []
  },
  {
   "cell_type": "code",
   "execution_count": 75,
   "id": "98eac2da",
   "metadata": {},
   "outputs": [
    {
     "data": {
      "text/plain": [
       "25"
      ]
     },
     "execution_count": 75,
     "metadata": {},
     "output_type": "execute_result"
    }
   ],
   "source": [
    "now = datetime.now() # 현재\n",
    "\n",
    "reload = now.date() - timedelta(days=6)\n",
    "\n",
    "con = pymysql.connect(host=\"database-dev.cclpxl5ttlgd.ap-northeast-2.rds.amazonaws.com\", user=\"develop\",\n",
    "               password=\"anchovy1!\", db=\"anchovy\", charset=\"utf8\", autocommit=True, # .autocommit 결과 반영\n",
    "               cursorclass=pymysql.cursors.DictCursor) #DB 조회시 컬럼명을 동시에 보여준다\n",
    "cur = con.cursor() # 연결 (Cusor 생성)\n",
    "\n",
    "sql = \"SELECT * FROM anchovy_common_user_status\"\n",
    "\n",
    "cur.execute(sql) # Sql문 실행"
   ]
  },
  {
   "cell_type": "code",
   "execution_count": null,
   "id": "863a59d3",
   "metadata": {},
   "outputs": [],
   "source": []
  },
  {
   "cell_type": "code",
   "execution_count": null,
   "id": "8fb03ff3",
   "metadata": {},
   "outputs": [],
   "source": []
  },
  {
   "cell_type": "code",
   "execution_count": 76,
   "id": "fc81bf8f",
   "metadata": {},
   "outputs": [
    {
     "ename": "SyntaxError",
     "evalue": "invalid syntax (<ipython-input-76-593a5354e824>, line 1)",
     "output_type": "error",
     "traceback": [
      "\u001b[0;36m  File \u001b[0;32m\"<ipython-input-76-593a5354e824>\"\u001b[0;36m, line \u001b[0;32m1\u001b[0m\n\u001b[0;31m    UPDATE anchovy_common_user_status SET coupon = '1' WHERE username = 'nmk11'\u001b[0m\n\u001b[0m           ^\u001b[0m\n\u001b[0;31mSyntaxError\u001b[0m\u001b[0;31m:\u001b[0m invalid syntax\n"
     ]
    }
   ],
   "source": [
    "sql2 = 'UPDATE anchovy_common_user_status SET coupon = '1' WHERE username = 'nmk11'"
   ]
  },
  {
   "cell_type": "code",
   "execution_count": null,
   "id": "78ab5dcc",
   "metadata": {},
   "outputs": [],
   "source": [
    "cur.execute(sql) \n",
    "data = cur.fetchall()"
   ]
  },
  {
   "cell_type": "code",
   "execution_count": null,
   "id": "105c1059",
   "metadata": {},
   "outputs": [],
   "source": []
  },
  {
   "cell_type": "code",
   "execution_count": null,
   "id": "7c2deeb2",
   "metadata": {},
   "outputs": [],
   "source": []
  },
  {
   "cell_type": "code",
   "execution_count": null,
   "id": "ac4eb0b0",
   "metadata": {},
   "outputs": [],
   "source": []
  },
  {
   "cell_type": "code",
   "execution_count": null,
   "id": "fdbd2f99",
   "metadata": {},
   "outputs": [],
   "source": []
  },
  {
   "cell_type": "code",
   "execution_count": null,
   "id": "a1ff73c8",
   "metadata": {},
   "outputs": [],
   "source": []
  },
  {
   "cell_type": "code",
   "execution_count": null,
   "id": "40a7e3b7",
   "metadata": {},
   "outputs": [],
   "source": []
  },
  {
   "cell_type": "code",
   "execution_count": null,
   "id": "cfb77cf7",
   "metadata": {},
   "outputs": [],
   "source": []
  },
  {
   "cell_type": "code",
   "execution_count": null,
   "id": "50f8f02b",
   "metadata": {},
   "outputs": [],
   "source": []
  }
 ],
 "metadata": {
  "kernelspec": {
   "display_name": "Django Shell-Plus",
   "language": "python",
   "name": "django_extensions"
  },
  "language_info": {
   "codemirror_mode": {
    "name": "ipython",
    "version": 3
   },
   "file_extension": ".py",
   "mimetype": "text/x-python",
   "name": "python",
   "nbconvert_exporter": "python",
   "pygments_lexer": "ipython3",
   "version": "3.9.15"
  }
 },
 "nbformat": 4,
 "nbformat_minor": 5
}
