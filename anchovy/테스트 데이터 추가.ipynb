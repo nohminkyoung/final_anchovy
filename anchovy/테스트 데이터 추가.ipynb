{
 "cells": [
  {
   "cell_type": "markdown",
   "id": "9d6a92fe",
   "metadata": {},
   "source": [
    "lunaric0402\n",
    "loginerror "
   ]
  },
  {
   "cell_type": "code",
   "execution_count": 4,
   "id": "0f45be33",
   "metadata": {},
   "outputs": [],
   "source": [
    "# 반드시 실행해줘야 데이터가 입력된다\n",
    "import os\n",
    "os.environ[\"DJANGO_ALLOW_ASYNC_UNSAFE\"] = \"true\""
   ]
  },
  {
   "cell_type": "markdown",
   "id": "4c69fc30",
   "metadata": {},
   "source": [
    "# 현재 날짜 및 시간 설정"
   ]
  },
  {
   "cell_type": "code",
   "execution_count": 2,
   "id": "b510af53",
   "metadata": {},
   "outputs": [],
   "source": [
    "from datetime import datetime, date, time"
   ]
  },
  {
   "cell_type": "code",
   "execution_count": 3,
   "id": "c537c88a",
   "metadata": {},
   "outputs": [],
   "source": [
    "now = datetime.now()"
   ]
  },
  {
   "cell_type": "code",
   "execution_count": 4,
   "id": "7a1b9d7c",
   "metadata": {},
   "outputs": [],
   "source": [
    "an_year = now.year\n",
    "an_month = now.month\n",
    "an_day = now.day\n",
    "an_hour = now.hour\n",
    "an_minute = now.minute"
   ]
  },
  {
   "cell_type": "code",
   "execution_count": 5,
   "id": "1376525b",
   "metadata": {},
   "outputs": [],
   "source": [
    "create_date = date(an_year, an_month, an_day)\n",
    "create_time = time(an_hour, an_minute, 0)"
   ]
  },
  {
   "cell_type": "markdown",
   "id": "263351a4",
   "metadata": {},
   "source": [
    "# 가상의 운동 기록 남기기"
   ]
  },
  {
   "cell_type": "code",
   "execution_count": 6,
   "id": "d56617bb",
   "metadata": {},
   "outputs": [],
   "source": [
    "create_date = date(an_year, an_month, an_day)\n",
    "create_time = time(an_hour, an_minute, 0)"
   ]
  },
  {
   "cell_type": "code",
   "execution_count": 7,
   "id": "f8b0ed11",
   "metadata": {},
   "outputs": [],
   "source": [
    "import random"
   ]
  },
  {
   "cell_type": "code",
   "execution_count": 8,
   "id": "fd0046ea",
   "metadata": {},
   "outputs": [],
   "source": [
    "# 로그인 정보를 이곳에서 바꿔주세요 \n",
    "createname = 'test'"
   ]
  },
  {
   "cell_type": "code",
   "execution_count": 9,
   "id": "8ef32b02",
   "metadata": {},
   "outputs": [],
   "source": [
    "UserQ = Custom_User.objects.get(username=createname)"
   ]
  },
  {
   "cell_type": "code",
   "execution_count": 10,
   "id": "aadcf54a",
   "metadata": {},
   "outputs": [],
   "source": [
    "train_set = 4\n",
    "train_all_count = random.randint(8,15)\n",
    "train_kind = random.randint(1,2)\n",
    "\n",
    "for _ in range(train_set):\n",
    "    train_accurate_count = random.randint(5,train_all_count)\n",
    "    \n",
    "    train_data = Train(author_id = UserQ.id, username=createname, train_date=create_date, \n",
    "                       train_time = create_time, train_kind = train_kind,  train_set=train_set, \n",
    "                       train_all_count=train_all_count, train_accurate_count=train_accurate_count)\n",
    "\n",
    "    train_data.save()"
   ]
  },
  {
   "cell_type": "markdown",
   "id": "e4a97fb9",
   "metadata": {},
   "source": [
    "# 유저 상태 값 기록 남기기"
   ]
  },
  {
   "cell_type": "code",
   "execution_count": 32,
   "id": "5545cfa2",
   "metadata": {},
   "outputs": [],
   "source": [
    "import random"
   ]
  },
  {
   "cell_type": "code",
   "execution_count": 41,
   "id": "2902980d",
   "metadata": {},
   "outputs": [],
   "source": [
    "# 만들고 싶은 user정보 가져오기(username 등)\n",
    "createname = 'test'\n",
    "\n",
    "UserQ = Custom_User.objects.get(username=createname)"
   ]
  },
  {
   "cell_type": "code",
   "execution_count": 43,
   "id": "c24519d1",
   "metadata": {},
   "outputs": [],
   "source": [
    "# 날짜 데이터 생성\n",
    "an_year = now.year\n",
    "an_month = now.month\n",
    "an_day = now.day\n",
    "an_hour = now.hour\n",
    "an_minute = now.minute\n",
    "\n",
    "create_date = date(an_year, an_month, an_day)\n",
    "create_time = time(an_hour, an_minute, 0)"
   ]
  },
  {
   "cell_type": "code",
   "execution_count": null,
   "id": "6fb5d18b",
   "metadata": {},
   "outputs": [],
   "source": [
    "# 입력할 데이터 값 생성\n",
    "protein = random.randint(1,20)\n",
    "coupon = random.randint(1,5)\n",
    "recent_date = create_date\n",
    "recent_time = create_time\n",
    "character_lv = random.randint(1,4)\n",
    "week_train_count = random.randint(1,5)\n",
    "author_id = UserQ.id"
   ]
  },
  {
   "cell_type": "code",
   "execution_count": 45,
   "id": "d10342b4",
   "metadata": {},
   "outputs": [],
   "source": [
    "# User_status(모델에 생성한 class이름 사용)의 각 컬럼에 들어갈 데이터 들을 지정해줌(컬럼명=데이터)\n",
    "status_data = User_status(author_id = UserQ.id, username=createname, nickname=UserQ.nickname, \n",
    "                          protein=protein, coupon = coupon, recent_date = recent_date,  recent_time=recent_time, \n",
    "                          character_lv=character_lv, week_train_count=week_train_count)\n",
    "\n",
    "# 반드시 save를 해줘야 데이터가 저장됨\n",
    "status_data.save()"
   ]
  },
  {
   "cell_type": "markdown",
   "id": "9c7e5aa6",
   "metadata": {},
   "source": [
    "### 테스트"
   ]
  },
  {
   "cell_type": "code",
   "execution_count": 6,
   "id": "e0678406",
   "metadata": {},
   "outputs": [
    {
     "ename": "TypeError",
     "evalue": "Friend() got an unexpected keyword argument 'fd_id_protein'",
     "output_type": "error",
     "traceback": [
      "\u001b[1;31m---------------------------------------------------------------------------\u001b[0m",
      "\u001b[1;31mTypeError\u001b[0m                                 Traceback (most recent call last)",
      "\u001b[1;32m<ipython-input-6-23969bde8fe0>\u001b[0m in \u001b[0;36m<module>\u001b[1;34m\u001b[0m\n\u001b[0;32m      3\u001b[0m \u001b[1;33m\u001b[0m\u001b[0m\n\u001b[0;32m      4\u001b[0m \u001b[0mfd_id\u001b[0m \u001b[1;33m=\u001b[0m \u001b[0mUser_status\u001b[0m\u001b[1;33m.\u001b[0m\u001b[0mobjects\u001b[0m\u001b[1;33m.\u001b[0m\u001b[0mget\u001b[0m\u001b[1;33m(\u001b[0m\u001b[0musername\u001b[0m \u001b[1;33m=\u001b[0m \u001b[1;34m'wjswjdgns3'\u001b[0m\u001b[1;33m)\u001b[0m\u001b[1;33m\u001b[0m\u001b[1;33m\u001b[0m\u001b[0m\n\u001b[1;32m----> 5\u001b[1;33m status_data = Friend(username=user.username, friend_name=fd_id.username, \n\u001b[0m\u001b[0;32m      6\u001b[0m                 friend_nickname = fd_id.nickname, fd_id_protein=fd_id.protein, author_id = user.author_id)\n\u001b[0;32m      7\u001b[0m \u001b[0mstatus_data\u001b[0m\u001b[1;33m.\u001b[0m\u001b[0msave\u001b[0m\u001b[1;33m(\u001b[0m\u001b[1;33m)\u001b[0m\u001b[1;33m\u001b[0m\u001b[1;33m\u001b[0m\u001b[0m\n",
      "\u001b[1;32m~\\Documents\\Deep_Learning\\anchovy_project\\venv\\lib\\site-packages\\django\\db\\models\\base.py\u001b[0m in \u001b[0;36m__init__\u001b[1;34m(self, *args, **kwargs)\u001b[0m\n\u001b[0;32m    499\u001b[0m                     \u001b[1;32mpass\u001b[0m\u001b[1;33m\u001b[0m\u001b[1;33m\u001b[0m\u001b[0m\n\u001b[0;32m    500\u001b[0m             \u001b[1;32mfor\u001b[0m \u001b[0mkwarg\u001b[0m \u001b[1;32min\u001b[0m \u001b[0mkwargs\u001b[0m\u001b[1;33m:\u001b[0m\u001b[1;33m\u001b[0m\u001b[1;33m\u001b[0m\u001b[0m\n\u001b[1;32m--> 501\u001b[1;33m                 \u001b[1;32mraise\u001b[0m \u001b[0mTypeError\u001b[0m\u001b[1;33m(\u001b[0m\u001b[1;34m\"%s() got an unexpected keyword argument '%s'\"\u001b[0m \u001b[1;33m%\u001b[0m \u001b[1;33m(\u001b[0m\u001b[0mcls\u001b[0m\u001b[1;33m.\u001b[0m\u001b[0m__name__\u001b[0m\u001b[1;33m,\u001b[0m \u001b[0mkwarg\u001b[0m\u001b[1;33m)\u001b[0m\u001b[1;33m)\u001b[0m\u001b[1;33m\u001b[0m\u001b[1;33m\u001b[0m\u001b[0m\n\u001b[0m\u001b[0;32m    502\u001b[0m         \u001b[0msuper\u001b[0m\u001b[1;33m(\u001b[0m\u001b[1;33m)\u001b[0m\u001b[1;33m.\u001b[0m\u001b[0m__init__\u001b[0m\u001b[1;33m(\u001b[0m\u001b[1;33m)\u001b[0m\u001b[1;33m\u001b[0m\u001b[1;33m\u001b[0m\u001b[0m\n\u001b[0;32m    503\u001b[0m         \u001b[0mpost_init\u001b[0m\u001b[1;33m.\u001b[0m\u001b[0msend\u001b[0m\u001b[1;33m(\u001b[0m\u001b[0msender\u001b[0m\u001b[1;33m=\u001b[0m\u001b[0mcls\u001b[0m\u001b[1;33m,\u001b[0m \u001b[0minstance\u001b[0m\u001b[1;33m=\u001b[0m\u001b[0mself\u001b[0m\u001b[1;33m)\u001b[0m\u001b[1;33m\u001b[0m\u001b[1;33m\u001b[0m\u001b[0m\n",
      "\u001b[1;31mTypeError\u001b[0m: Friend() got an unexpected keyword argument 'fd_id_protein'"
     ]
    }
   ],
   "source": [
    "user = User_status.objects.get(username = 'test')\n",
    "\n",
    "\n",
    "fd_id = User_status.objects.get(username = 'wjswjdgns3')\n",
    "status_data = Friend(username=user.username, friend_name=fd_id.username, \n",
    "                friend_nickname = fd_id.nickname, friend_protein=fd_id.protein, author_id = user.author_id)\n",
    "status_data.save()"
   ]
  },
  {
   "cell_type": "code",
   "execution_count": 6,
   "id": "3c8bd770",
   "metadata": {},
   "outputs": [],
   "source": [
    "# 로그인 정보를 이곳에서 바꿔주세요 \n",
    "createname = 'loginerror'"
   ]
  },
  {
   "cell_type": "code",
   "execution_count": 11,
   "id": "5afcc541",
   "metadata": {},
   "outputs": [],
   "source": [
    "t = Train.objects.filter(username=createname)"
   ]
  },
  {
   "cell_type": "code",
   "execution_count": 13,
   "id": "c5993e16",
   "metadata": {},
   "outputs": [
    {
     "name": "stdout",
     "output_type": "stream",
     "text": [
      "1\n",
      "1\n",
      "1\n",
      "2\n",
      "2\n",
      "2\n",
      "2\n",
      "1\n",
      "1\n",
      "1\n",
      "2\n",
      "2\n"
     ]
    }
   ],
   "source": [
    "for i in t:\n",
    "    print(i.train_kind)"
   ]
  },
  {
   "cell_type": "markdown",
   "id": "91d4c703",
   "metadata": {},
   "source": [
    "# 친구 추가하기"
   ]
  },
  {
   "cell_type": "code",
   "execution_count": 5,
   "id": "c82d4c7a",
   "metadata": {},
   "outputs": [],
   "source": [
    "# 사용자 이름\n",
    "createname = 'test'\n",
    "\n",
    "UserQ = Custom_User.objects.get(username=createname)"
   ]
  },
  {
   "cell_type": "code",
   "execution_count": 10,
   "id": "cc9bb729",
   "metadata": {},
   "outputs": [],
   "source": [
    "# 친구이름\n",
    "friend_n = 'maintest'\n",
    "\n",
    "friend = User_status.objects.get(username=friend_n)"
   ]
  },
  {
   "cell_type": "code",
   "execution_count": 11,
   "id": "e30d962d",
   "metadata": {},
   "outputs": [],
   "source": [
    "status_data = Friend(username=createname,friend_name=friend.username,\n",
    "                          friend_nickname=friend.nickname,friend_protein=friend.protein,author_id = friend.author_id)\n",
    "\n",
    "status_data.save()"
   ]
  },
  {
   "cell_type": "code",
   "execution_count": null,
   "id": "95932788",
   "metadata": {},
   "outputs": [],
   "source": []
  },
  {
   "cell_type": "markdown",
   "id": "489f8b27",
   "metadata": {},
   "source": [
    "# 알림 추가하기"
   ]
  },
  {
   "cell_type": "code",
   "execution_count": 25,
   "id": "ffacab5e",
   "metadata": {},
   "outputs": [],
   "source": [
    "# 사용자 이름\n",
    "createname = 'test'\n",
    "\n",
    "UserQ = Custom_User.objects.get(username=createname)"
   ]
  },
  {
   "cell_type": "code",
   "execution_count": 26,
   "id": "71da2968",
   "metadata": {},
   "outputs": [],
   "source": [
    "now = datetime.now()"
   ]
  },
  {
   "cell_type": "code",
   "execution_count": 27,
   "id": "dbb2f946",
   "metadata": {},
   "outputs": [],
   "source": [
    "an_year = now.year\n",
    "an_month = now.month\n",
    "an_day = now.day\n",
    "an_hour = now.hour\n",
    "an_minute = now.minute"
   ]
  },
  {
   "cell_type": "code",
   "execution_count": 28,
   "id": "c58de5dc",
   "metadata": {},
   "outputs": [],
   "source": [
    "create_date = date(an_year, 11, 10)\n",
    "create_time = time(an_hour, an_minute, 0)"
   ]
  },
  {
   "cell_type": "code",
   "execution_count": 29,
   "id": "b438fce9",
   "metadata": {},
   "outputs": [],
   "source": [
    "# status : 1-운동안한지 오래됨, 2-뺏음, 3- 뺏김\n",
    "status_data = Notice(notice_date=create_date, notice_time=create_time,\n",
    "                     username=UserQ.username,notice_status=3, author_id=UserQ.id)\n",
    "\n",
    "status_data.save()"
   ]
  },
  {
   "cell_type": "markdown",
   "id": "b994edad",
   "metadata": {},
   "source": [
    "# 베틀 데이터 추가하기 "
   ]
  },
  {
   "cell_type": "code",
   "execution_count": 66,
   "id": "9d59d168",
   "metadata": {},
   "outputs": [
    {
     "ename": "TypeError",
     "evalue": "battle() got an unexpected keyword argument 'username'",
     "output_type": "error",
     "traceback": [
      "\u001b[0;31m---------------------------------------------------------------------------\u001b[0m",
      "\u001b[0;31mTypeError\u001b[0m                                 Traceback (most recent call last)",
      "\u001b[0;32m<ipython-input-66-31bc919c6bb6>\u001b[0m in \u001b[0;36m<module>\u001b[0;34m\u001b[0m\n\u001b[1;32m     19\u001b[0m \u001b[0mcreate_time\u001b[0m \u001b[0;34m=\u001b[0m \u001b[0mtime\u001b[0m\u001b[0;34m(\u001b[0m\u001b[0;36m17\u001b[0m\u001b[0;34m,\u001b[0m \u001b[0;36m8\u001b[0m\u001b[0;34m,\u001b[0m \u001b[0;36m0\u001b[0m\u001b[0;34m)\u001b[0m\u001b[0;34m\u001b[0m\u001b[0;34m\u001b[0m\u001b[0m\n\u001b[1;32m     20\u001b[0m \u001b[0;34m\u001b[0m\u001b[0m\n\u001b[0;32m---> 21\u001b[0;31m status_data = battle(username = UserQ.username, lose_username=User1.username,lose_nickname=User1.nickname,\n\u001b[0m\u001b[1;32m     22\u001b[0m                      \u001b[0mearn_username\u001b[0m\u001b[0;34m=\u001b[0m\u001b[0mUser2\u001b[0m\u001b[0;34m.\u001b[0m\u001b[0musername\u001b[0m\u001b[0;34m,\u001b[0m \u001b[0mearn_nickname\u001b[0m\u001b[0;34m=\u001b[0m\u001b[0mUser2\u001b[0m\u001b[0;34m.\u001b[0m\u001b[0mnickname\u001b[0m\u001b[0;34m,\u001b[0m\u001b[0;34m\u001b[0m\u001b[0;34m\u001b[0m\u001b[0m\n\u001b[1;32m     23\u001b[0m                     \u001b[0mlose_date\u001b[0m\u001b[0;34m=\u001b[0m\u001b[0mcreate_date\u001b[0m\u001b[0;34m,\u001b[0m \u001b[0mlose_time\u001b[0m\u001b[0;34m=\u001b[0m\u001b[0mcreate_time\u001b[0m\u001b[0;34m,\u001b[0m\u001b[0;34m\u001b[0m\u001b[0;34m\u001b[0m\u001b[0m\n",
      "\u001b[0;32m~/Documents/final/venv/lib/python3.9/site-packages/django/db/models/base.py\u001b[0m in \u001b[0;36m__init__\u001b[0;34m(self, *args, **kwargs)\u001b[0m\n\u001b[1;32m    499\u001b[0m                     \u001b[0;32mpass\u001b[0m\u001b[0;34m\u001b[0m\u001b[0;34m\u001b[0m\u001b[0m\n\u001b[1;32m    500\u001b[0m             \u001b[0;32mfor\u001b[0m \u001b[0mkwarg\u001b[0m \u001b[0;32min\u001b[0m \u001b[0mkwargs\u001b[0m\u001b[0;34m:\u001b[0m\u001b[0;34m\u001b[0m\u001b[0;34m\u001b[0m\u001b[0m\n\u001b[0;32m--> 501\u001b[0;31m                 \u001b[0;32mraise\u001b[0m \u001b[0mTypeError\u001b[0m\u001b[0;34m(\u001b[0m\u001b[0;34m\"%s() got an unexpected keyword argument '%s'\"\u001b[0m \u001b[0;34m%\u001b[0m \u001b[0;34m(\u001b[0m\u001b[0mcls\u001b[0m\u001b[0;34m.\u001b[0m\u001b[0m__name__\u001b[0m\u001b[0;34m,\u001b[0m \u001b[0mkwarg\u001b[0m\u001b[0;34m)\u001b[0m\u001b[0;34m)\u001b[0m\u001b[0;34m\u001b[0m\u001b[0;34m\u001b[0m\u001b[0m\n\u001b[0m\u001b[1;32m    502\u001b[0m         \u001b[0msuper\u001b[0m\u001b[0;34m(\u001b[0m\u001b[0;34m)\u001b[0m\u001b[0;34m.\u001b[0m\u001b[0m__init__\u001b[0m\u001b[0;34m(\u001b[0m\u001b[0;34m)\u001b[0m\u001b[0;34m\u001b[0m\u001b[0;34m\u001b[0m\u001b[0m\n\u001b[1;32m    503\u001b[0m         \u001b[0mpost_init\u001b[0m\u001b[0;34m.\u001b[0m\u001b[0msend\u001b[0m\u001b[0;34m(\u001b[0m\u001b[0msender\u001b[0m\u001b[0;34m=\u001b[0m\u001b[0mcls\u001b[0m\u001b[0;34m,\u001b[0m \u001b[0minstance\u001b[0m\u001b[0;34m=\u001b[0m\u001b[0mself\u001b[0m\u001b[0;34m)\u001b[0m\u001b[0;34m\u001b[0m\u001b[0;34m\u001b[0m\u001b[0m\n",
      "\u001b[0;31mTypeError\u001b[0m: battle() got an unexpected keyword argument 'username'"
     ]
    }
   ],
   "source": [
    "# 사용자 이름\n",
    "createname = 'test'\n",
    "\n",
    "UserQ = Custom_User.objects.get(username=createname)\n",
    "\n",
    "user1 = 'attack' # 뺏긴 사람\n",
    "User1 = User_status.objects.get(username=user1)\n",
    "\n",
    "user2 = 'test' # 뺏은 사람\n",
    "User2 = User_status.objects.get(username=user2)\n",
    "\n",
    "an_year = now.year\n",
    "an_month = now.month\n",
    "an_day = now.day\n",
    "an_hour = now.hour\n",
    "an_minute = now.minute\n",
    "\n",
    "create_date = date(an_year, an_month, an_day)\n",
    "create_time = time(17, 8, 0)\n",
    "\n",
    "status_data = battle(username = UserQ.username, lose_username=User1.username,lose_nickname=User1.nickname,\n",
    "                     earn_username=User2.username, earn_nickname=User2.nickname,\n",
    "                    lose_date=create_date, lose_time=create_time,\n",
    "                     author_id = UserQ.id)\n",
    "\n",
    "status_data.save()"
   ]
  },
  {
   "cell_type": "code",
   "execution_count": null,
   "id": "af0ac189",
   "metadata": {},
   "outputs": [],
   "source": []
  },
  {
   "cell_type": "code",
   "execution_count": null,
   "id": "b6d113d4",
   "metadata": {},
   "outputs": [],
   "source": []
  },
  {
   "cell_type": "code",
   "execution_count": null,
   "id": "6f019e7a",
   "metadata": {},
   "outputs": [],
   "source": []
  },
  {
   "cell_type": "code",
   "execution_count": null,
   "id": "61c9a816",
   "metadata": {},
   "outputs": [],
   "source": []
  }
 ],
 "metadata": {
  "kernelspec": {
   "display_name": "Django Shell-Plus",
   "language": "python",
   "name": "django_extensions"
  },
  "language_info": {
   "codemirror_mode": {
    "name": "ipython",
    "version": 3
   },
   "file_extension": ".py",
   "mimetype": "text/x-python",
   "name": "python",
   "nbconvert_exporter": "python",
   "pygments_lexer": "ipython3",
   "version": "3.9.7"
  }
 },
 "nbformat": 4,
 "nbformat_minor": 5
}
